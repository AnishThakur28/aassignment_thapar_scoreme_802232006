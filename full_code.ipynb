{
  "nbformat": 4,
  "nbformat_minor": 0,
  "metadata": {
    "colab": {
      "provenance": []
    },
    "kernelspec": {
      "name": "python3",
      "display_name": "Python 3"
    },
    "language_info": {
      "name": "python"
    }
  },
  "cells": [
    {
      "cell_type": "markdown",
      "source": [
        "### **Tool Detecting and Extracting Tables from PDFs** **bold text**"
      ],
      "metadata": {
        "id": "4BlEpZka21cC"
      }
    },
    {
      "cell_type": "markdown",
      "source": [
        "THIS is Developed by : ANISH THAKUR"
      ],
      "metadata": {
        "id": "6JR6-Id23Xr2"
      }
    },
    {
      "cell_type": "code",
      "source": [
        "pip install pdfminer.six\n"
      ],
      "metadata": {
        "colab": {
          "base_uri": "https://localhost:8080/"
        },
        "id": "ZZ4DtF46x1OW",
        "outputId": "47c6303c-08c4-41c4-d705-4225296a9405"
      },
      "execution_count": 37,
      "outputs": [
        {
          "output_type": "stream",
          "name": "stdout",
          "text": [
            "Collecting pdfminer.six\n",
            "  Downloading pdfminer.six-20240706-py3-none-any.whl (5.6 MB)\n",
            "\u001b[2K     \u001b[90m━━━━━━━━━━━━━━━━━━━━━━━━━━━━━━━━━━━━━━━━\u001b[0m \u001b[32m5.6/5.6 MB\u001b[0m \u001b[31m34.2 MB/s\u001b[0m eta \u001b[36m0:00:00\u001b[0m\n",
            "\u001b[?25hRequirement already satisfied: charset-normalizer>=2.0.0 in /usr/local/lib/python3.10/dist-packages (from pdfminer.six) (3.3.2)\n",
            "Requirement already satisfied: cryptography>=36.0.0 in /usr/local/lib/python3.10/dist-packages (from pdfminer.six) (42.0.8)\n",
            "Requirement already satisfied: cffi>=1.12 in /usr/local/lib/python3.10/dist-packages (from cryptography>=36.0.0->pdfminer.six) (1.16.0)\n",
            "Requirement already satisfied: pycparser in /usr/local/lib/python3.10/dist-packages (from cffi>=1.12->cryptography>=36.0.0->pdfminer.six) (2.22)\n",
            "Installing collected packages: pdfminer.six\n",
            "Successfully installed pdfminer.six-20240706\n"
          ]
        }
      ]
    },
    {
      "cell_type": "markdown",
      "source": [
        "## **By this code we can Automatically Download multiple pdf files to Excel files**"
      ],
      "metadata": {
        "id": "T9vyE1Lo-_vZ"
      }
    },
    {
      "cell_type": "code",
      "source": [
        "from pdfminer.high_level import extract_text\n",
        "from openpyxl import Workbook\n",
        "import re\n",
        "\n",
        "def extract_tables_from_pdf(pdf_path):\n",
        "    text = extract_text(pdf_path)\n",
        "    tables = extract_tables_from_text(text)\n",
        "    return tables\n",
        "\n",
        "def extract_tables_from_text(text):\n",
        "    tables = []\n",
        "    table_pattern = re.compile(r'\\+.*?\\+[\\n\\S]*?(?:\\|.*?\\|[\\n\\S]*?)*\\+')\n",
        "\n",
        "    matches = table_pattern.findall(text)\n",
        "    for match in matches:\n",
        "        table_data = []\n",
        "        rows = match.strip().split('\\n')\n",
        "        for row in rows:\n",
        "            cells = [cell.strip() for cell in row.strip('|').split('|')]\n",
        "            table_data.append(cells)\n",
        "        tables.append(table_data)\n",
        "\n",
        "    return tables\n",
        "\n",
        "def write_to_excel(tables, output_file):\n",
        "    wb = Workbook()\n",
        "\n",
        "    for idx, table in enumerate(tables, start=1):\n",
        "        ws = wb.create_sheet(f\"Table_{idx}\")\n",
        "\n",
        "        for row_idx, row in enumerate(table, start=1):\n",
        "            for col_idx, cell in enumerate(row, start=1):\n",
        "                ws.cell(row=row_idx, column=col_idx, value=cell)\n",
        "\n",
        "    wb.save(output_file)\n",
        "    print(f\"Tables successfully written to {output_file}\")\n",
        "\n",
        "if __name__ == \"__main__\":\n",
        "    pdf_path = r\"/content/test3.pdf\"\n",
        "    pdf_path = r\"/content/test5.pdf\"\n",
        "    pdf_path = r\"/content/test6.pdf\"\n",
        "    output_excel = 'output.xlsx'\n",
        "\n",
        "    tables = extract_tables_from_pdf(pdf_path)\n",
        "    write_to_excel(tables, output_excel)\n"
      ],
      "metadata": {
        "colab": {
          "base_uri": "https://localhost:8080/"
        },
        "id": "s7SyAWLRzV4V",
        "outputId": "e075209a-1fd6-4a19-c047-d7458128fb98"
      },
      "execution_count": 67,
      "outputs": [
        {
          "output_type": "stream",
          "name": "stdout",
          "text": [
            "Tables successfully written to output.xlsx\n"
          ]
        }
      ]
    },
    {
      "cell_type": "markdown",
      "source": [
        "## **Guide to Detect and Extract Tables from PDFs**\n",
        "\n",
        "1.   Step 1 : Run The Script Below\n",
        "2.   Step 2 : Upload/Cancel the Pdf from Your Computer\n",
        "3.   Step 3 : Just Chill and Wait.\n",
        "4.   Step 4 : Excel File Automatically Downloaded\n",
        "\n"
      ],
      "metadata": {
        "id": "dHJlZ-VAzEc9"
      }
    },
    {
      "cell_type": "code",
      "source": [
        "from pdfminer.high_level import extract_text\n",
        "from openpyxl import Workbook\n",
        "import re\n",
        "from google.colab import files\n",
        "\n",
        "def extract_tables_from_pdf(pdf_path):\n",
        "\n",
        "    text = extract_text(pdf_path)  # Extract text from PDF\n",
        "    tables = extract_tables_from_text(text)  # Extract tables from extracted text\n",
        "    return tables\n",
        "\n",
        "def extract_tables_from_text(text):                                                         # Extracts tables from text using regex patterns.      Returns: list: List of tables, where each table is a list of rows containing cell values.\n",
        "    tables = []\n",
        "    table_pattern = re.compile(r'\\+.*?\\+[\\n\\S]*?(?:\\|.*?\\|[\\n\\S]*?)*\\+')                    # Regular expression pattern to identify tables in text\n",
        "    matches = table_pattern.findall(text)                                                   # Find all matches of the table pattern in the text\n",
        "\n",
        "    for match in matches:                                                                   # Process each matched table\n",
        "        table_data = []\n",
        "        rows = match.strip().split('\\n')                                                    # Split the matched table into rows\n",
        "        for row in rows:                                                                    # Process each row to extract cells\n",
        "\n",
        "            cells = [cell.strip() for cell in row.strip('|').split('|')]                    # Split row into cells based on '|' separator, strip whitespace\n",
        "            table_data.append(cells)\n",
        "        tables.append(table_data)\n",
        "\n",
        "    return tables\n",
        "\n",
        "def write_to_excel(tables, output_file):                                                     # Writes tables data to an Excel file using openpyxl.\n",
        "    wb = Workbook()                                                                          # Create a new Workbook object\n",
        "    for idx, table in enumerate(tables, start=1):                                            # Iterate through each table and write to a new sheet in the Workbook\n",
        "        ws = wb.create_sheet(f\"Table_{idx}\")  # Create a new sheet for each table\n",
        "        for row_idx, row in enumerate(table, start=1):                                       # Iterate through each row in the table\n",
        "\n",
        "            for col_idx, cell in enumerate(row, start=1):                                    # Iterate through each cell in the row and write to the sheet\n",
        "                ws.cell(row=row_idx, column=col_idx, value=cell)                             # Write cell value to sheet\n",
        "\n",
        "    wb.save(output_file)                                                                     # Save the Workbook to the specified output file\n",
        "    print(f\"Tables successfully written to {output_file}\")\n",
        "\n",
        "def convert_pdf_to_excel_and_download():                                                     # Main function to convert uploaded PDF files to Excel and initiate download \"\n",
        "\n",
        "    uploaded = files.upload()\n",
        "    pdf_paths = list(uploaded.keys())\n",
        "\n",
        "    if not pdf_paths:                                                                         # Check if any PDF files were uploaded\n",
        "        print(\"No PDF files uploaded.\")\n",
        "        return\n",
        "\n",
        "    output_file = 'output.xlsx'                                                                # Output file name for the Excel file\n",
        "    tables = []                                                                                # Convert PDFs to Excel tables and write to output file\n",
        "    for pdf_path in pdf_paths:\n",
        "        extracted_tables = extract_tables_from_pdf(pdf_path)                                   # Extract tables from each PDF\n",
        "        tables.extend(extracted_tables)                                                        # Extend tables list with tables from current PDF\n",
        "\n",
        "    write_to_excel(tables, output_file)                                                        # Write all tables to Excel fil\n",
        "    files.download(output_file)                                                                # Download the generated Excel file to the user's local system\n",
        "convert_pdf_to_excel_and_download()                                                            # Call the main function to start the PDF to Excel conversion and download process\n"
      ],
      "metadata": {
        "colab": {
          "base_uri": "https://localhost:8080/",
          "height": 88
        },
        "id": "rWurYc367CtV",
        "outputId": "cff280f7-65af-42b1-fe7b-0511d43762ad"
      },
      "execution_count": 70,
      "outputs": [
        {
          "output_type": "display_data",
          "data": {
            "text/plain": [
              "<IPython.core.display.HTML object>"
            ],
            "text/html": [
              "\n",
              "     <input type=\"file\" id=\"files-7ac953e5-8193-43ad-a4e5-aa5beb02f6e0\" name=\"files[]\" multiple disabled\n",
              "        style=\"border:none\" />\n",
              "     <output id=\"result-7ac953e5-8193-43ad-a4e5-aa5beb02f6e0\">\n",
              "      Upload widget is only available when the cell has been executed in the\n",
              "      current browser session. Please rerun this cell to enable.\n",
              "      </output>\n",
              "      <script>// Copyright 2017 Google LLC\n",
              "//\n",
              "// Licensed under the Apache License, Version 2.0 (the \"License\");\n",
              "// you may not use this file except in compliance with the License.\n",
              "// You may obtain a copy of the License at\n",
              "//\n",
              "//      http://www.apache.org/licenses/LICENSE-2.0\n",
              "//\n",
              "// Unless required by applicable law or agreed to in writing, software\n",
              "// distributed under the License is distributed on an \"AS IS\" BASIS,\n",
              "// WITHOUT WARRANTIES OR CONDITIONS OF ANY KIND, either express or implied.\n",
              "// See the License for the specific language governing permissions and\n",
              "// limitations under the License.\n",
              "\n",
              "/**\n",
              " * @fileoverview Helpers for google.colab Python module.\n",
              " */\n",
              "(function(scope) {\n",
              "function span(text, styleAttributes = {}) {\n",
              "  const element = document.createElement('span');\n",
              "  element.textContent = text;\n",
              "  for (const key of Object.keys(styleAttributes)) {\n",
              "    element.style[key] = styleAttributes[key];\n",
              "  }\n",
              "  return element;\n",
              "}\n",
              "\n",
              "// Max number of bytes which will be uploaded at a time.\n",
              "const MAX_PAYLOAD_SIZE = 100 * 1024;\n",
              "\n",
              "function _uploadFiles(inputId, outputId) {\n",
              "  const steps = uploadFilesStep(inputId, outputId);\n",
              "  const outputElement = document.getElementById(outputId);\n",
              "  // Cache steps on the outputElement to make it available for the next call\n",
              "  // to uploadFilesContinue from Python.\n",
              "  outputElement.steps = steps;\n",
              "\n",
              "  return _uploadFilesContinue(outputId);\n",
              "}\n",
              "\n",
              "// This is roughly an async generator (not supported in the browser yet),\n",
              "// where there are multiple asynchronous steps and the Python side is going\n",
              "// to poll for completion of each step.\n",
              "// This uses a Promise to block the python side on completion of each step,\n",
              "// then passes the result of the previous step as the input to the next step.\n",
              "function _uploadFilesContinue(outputId) {\n",
              "  const outputElement = document.getElementById(outputId);\n",
              "  const steps = outputElement.steps;\n",
              "\n",
              "  const next = steps.next(outputElement.lastPromiseValue);\n",
              "  return Promise.resolve(next.value.promise).then((value) => {\n",
              "    // Cache the last promise value to make it available to the next\n",
              "    // step of the generator.\n",
              "    outputElement.lastPromiseValue = value;\n",
              "    return next.value.response;\n",
              "  });\n",
              "}\n",
              "\n",
              "/**\n",
              " * Generator function which is called between each async step of the upload\n",
              " * process.\n",
              " * @param {string} inputId Element ID of the input file picker element.\n",
              " * @param {string} outputId Element ID of the output display.\n",
              " * @return {!Iterable<!Object>} Iterable of next steps.\n",
              " */\n",
              "function* uploadFilesStep(inputId, outputId) {\n",
              "  const inputElement = document.getElementById(inputId);\n",
              "  inputElement.disabled = false;\n",
              "\n",
              "  const outputElement = document.getElementById(outputId);\n",
              "  outputElement.innerHTML = '';\n",
              "\n",
              "  const pickedPromise = new Promise((resolve) => {\n",
              "    inputElement.addEventListener('change', (e) => {\n",
              "      resolve(e.target.files);\n",
              "    });\n",
              "  });\n",
              "\n",
              "  const cancel = document.createElement('button');\n",
              "  inputElement.parentElement.appendChild(cancel);\n",
              "  cancel.textContent = 'Cancel upload';\n",
              "  const cancelPromise = new Promise((resolve) => {\n",
              "    cancel.onclick = () => {\n",
              "      resolve(null);\n",
              "    };\n",
              "  });\n",
              "\n",
              "  // Wait for the user to pick the files.\n",
              "  const files = yield {\n",
              "    promise: Promise.race([pickedPromise, cancelPromise]),\n",
              "    response: {\n",
              "      action: 'starting',\n",
              "    }\n",
              "  };\n",
              "\n",
              "  cancel.remove();\n",
              "\n",
              "  // Disable the input element since further picks are not allowed.\n",
              "  inputElement.disabled = true;\n",
              "\n",
              "  if (!files) {\n",
              "    return {\n",
              "      response: {\n",
              "        action: 'complete',\n",
              "      }\n",
              "    };\n",
              "  }\n",
              "\n",
              "  for (const file of files) {\n",
              "    const li = document.createElement('li');\n",
              "    li.append(span(file.name, {fontWeight: 'bold'}));\n",
              "    li.append(span(\n",
              "        `(${file.type || 'n/a'}) - ${file.size} bytes, ` +\n",
              "        `last modified: ${\n",
              "            file.lastModifiedDate ? file.lastModifiedDate.toLocaleDateString() :\n",
              "                                    'n/a'} - `));\n",
              "    const percent = span('0% done');\n",
              "    li.appendChild(percent);\n",
              "\n",
              "    outputElement.appendChild(li);\n",
              "\n",
              "    const fileDataPromise = new Promise((resolve) => {\n",
              "      const reader = new FileReader();\n",
              "      reader.onload = (e) => {\n",
              "        resolve(e.target.result);\n",
              "      };\n",
              "      reader.readAsArrayBuffer(file);\n",
              "    });\n",
              "    // Wait for the data to be ready.\n",
              "    let fileData = yield {\n",
              "      promise: fileDataPromise,\n",
              "      response: {\n",
              "        action: 'continue',\n",
              "      }\n",
              "    };\n",
              "\n",
              "    // Use a chunked sending to avoid message size limits. See b/62115660.\n",
              "    let position = 0;\n",
              "    do {\n",
              "      const length = Math.min(fileData.byteLength - position, MAX_PAYLOAD_SIZE);\n",
              "      const chunk = new Uint8Array(fileData, position, length);\n",
              "      position += length;\n",
              "\n",
              "      const base64 = btoa(String.fromCharCode.apply(null, chunk));\n",
              "      yield {\n",
              "        response: {\n",
              "          action: 'append',\n",
              "          file: file.name,\n",
              "          data: base64,\n",
              "        },\n",
              "      };\n",
              "\n",
              "      let percentDone = fileData.byteLength === 0 ?\n",
              "          100 :\n",
              "          Math.round((position / fileData.byteLength) * 100);\n",
              "      percent.textContent = `${percentDone}% done`;\n",
              "\n",
              "    } while (position < fileData.byteLength);\n",
              "  }\n",
              "\n",
              "  // All done.\n",
              "  yield {\n",
              "    response: {\n",
              "      action: 'complete',\n",
              "    }\n",
              "  };\n",
              "}\n",
              "\n",
              "scope.google = scope.google || {};\n",
              "scope.google.colab = scope.google.colab || {};\n",
              "scope.google.colab._files = {\n",
              "  _uploadFiles,\n",
              "  _uploadFilesContinue,\n",
              "};\n",
              "})(self);\n",
              "</script> "
            ]
          },
          "metadata": {}
        },
        {
          "output_type": "stream",
          "name": "stdout",
          "text": [
            "Saving test6.pdf to test6 (1).pdf\n",
            "Tables successfully written to output.xlsx\n"
          ]
        },
        {
          "output_type": "display_data",
          "data": {
            "text/plain": [
              "<IPython.core.display.Javascript object>"
            ],
            "application/javascript": [
              "\n",
              "    async function download(id, filename, size) {\n",
              "      if (!google.colab.kernel.accessAllowed) {\n",
              "        return;\n",
              "      }\n",
              "      const div = document.createElement('div');\n",
              "      const label = document.createElement('label');\n",
              "      label.textContent = `Downloading \"${filename}\": `;\n",
              "      div.appendChild(label);\n",
              "      const progress = document.createElement('progress');\n",
              "      progress.max = size;\n",
              "      div.appendChild(progress);\n",
              "      document.body.appendChild(div);\n",
              "\n",
              "      const buffers = [];\n",
              "      let downloaded = 0;\n",
              "\n",
              "      const channel = await google.colab.kernel.comms.open(id);\n",
              "      // Send a message to notify the kernel that we're ready.\n",
              "      channel.send({})\n",
              "\n",
              "      for await (const message of channel.messages) {\n",
              "        // Send a message to notify the kernel that we're ready.\n",
              "        channel.send({})\n",
              "        if (message.buffers) {\n",
              "          for (const buffer of message.buffers) {\n",
              "            buffers.push(buffer);\n",
              "            downloaded += buffer.byteLength;\n",
              "            progress.value = downloaded;\n",
              "          }\n",
              "        }\n",
              "      }\n",
              "      const blob = new Blob(buffers, {type: 'application/binary'});\n",
              "      const a = document.createElement('a');\n",
              "      a.href = window.URL.createObjectURL(blob);\n",
              "      a.download = filename;\n",
              "      div.appendChild(a);\n",
              "      a.click();\n",
              "      div.remove();\n",
              "    }\n",
              "  "
            ]
          },
          "metadata": {}
        },
        {
          "output_type": "display_data",
          "data": {
            "text/plain": [
              "<IPython.core.display.Javascript object>"
            ],
            "application/javascript": [
              "download(\"download_7847f7ce-462e-4fb3-925c-48d456dfa40d\", \"output.xlsx\", 4783)"
            ]
          },
          "metadata": {}
        }
      ]
    }
  ]
}